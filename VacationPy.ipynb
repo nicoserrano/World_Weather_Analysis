{
 "cells": [
  {
   "cell_type": "code",
   "execution_count": 1,
   "id": "912aceae",
   "metadata": {},
   "outputs": [],
   "source": [
    "import pandas as pd\n",
    "import gmaps\n",
    "import requests\n",
    "\n",
    "from config import g_key"
   ]
  },
  {
   "cell_type": "code",
   "execution_count": 2,
   "id": "05a2f0c1",
   "metadata": {},
   "outputs": [
    {
     "data": {
      "text/html": [
       "<div>\n",
       "<style scoped>\n",
       "    .dataframe tbody tr th:only-of-type {\n",
       "        vertical-align: middle;\n",
       "    }\n",
       "\n",
       "    .dataframe tbody tr th {\n",
       "        vertical-align: top;\n",
       "    }\n",
       "\n",
       "    .dataframe thead th {\n",
       "        text-align: right;\n",
       "    }\n",
       "</style>\n",
       "<table border=\"1\" class=\"dataframe\">\n",
       "  <thead>\n",
       "    <tr style=\"text-align: right;\">\n",
       "      <th></th>\n",
       "      <th>City_ID</th>\n",
       "      <th>City</th>\n",
       "      <th>Country</th>\n",
       "      <th>Date</th>\n",
       "      <th>Lat</th>\n",
       "      <th>Lng</th>\n",
       "      <th>Max Temp</th>\n",
       "      <th>Humidity</th>\n",
       "      <th>Cloudiness</th>\n",
       "      <th>Wind Speed</th>\n",
       "    </tr>\n",
       "  </thead>\n",
       "  <tbody>\n",
       "    <tr>\n",
       "      <th>0</th>\n",
       "      <td>0</td>\n",
       "      <td>Cape Town</td>\n",
       "      <td>ZA</td>\n",
       "      <td>2021-06-15 17:53:32</td>\n",
       "      <td>-33.9258</td>\n",
       "      <td>18.4232</td>\n",
       "      <td>60.89</td>\n",
       "      <td>78</td>\n",
       "      <td>75</td>\n",
       "      <td>6.91</td>\n",
       "    </tr>\n",
       "    <tr>\n",
       "      <th>1</th>\n",
       "      <td>1</td>\n",
       "      <td>Mar Del Plata</td>\n",
       "      <td>AR</td>\n",
       "      <td>2021-06-15 17:53:32</td>\n",
       "      <td>-38.0023</td>\n",
       "      <td>-57.5575</td>\n",
       "      <td>53.01</td>\n",
       "      <td>74</td>\n",
       "      <td>20</td>\n",
       "      <td>11.99</td>\n",
       "    </tr>\n",
       "    <tr>\n",
       "      <th>2</th>\n",
       "      <td>2</td>\n",
       "      <td>Berdychiv</td>\n",
       "      <td>UA</td>\n",
       "      <td>2021-06-15 17:53:32</td>\n",
       "      <td>49.8993</td>\n",
       "      <td>28.6024</td>\n",
       "      <td>62.82</td>\n",
       "      <td>92</td>\n",
       "      <td>17</td>\n",
       "      <td>8.37</td>\n",
       "    </tr>\n",
       "    <tr>\n",
       "      <th>3</th>\n",
       "      <td>3</td>\n",
       "      <td>Esperance</td>\n",
       "      <td>AU</td>\n",
       "      <td>2021-06-15 17:53:33</td>\n",
       "      <td>-33.8667</td>\n",
       "      <td>121.9000</td>\n",
       "      <td>51.64</td>\n",
       "      <td>67</td>\n",
       "      <td>78</td>\n",
       "      <td>15.41</td>\n",
       "    </tr>\n",
       "    <tr>\n",
       "      <th>4</th>\n",
       "      <td>4</td>\n",
       "      <td>Pevek</td>\n",
       "      <td>RU</td>\n",
       "      <td>2021-06-15 17:53:33</td>\n",
       "      <td>69.7008</td>\n",
       "      <td>170.3133</td>\n",
       "      <td>33.57</td>\n",
       "      <td>93</td>\n",
       "      <td>98</td>\n",
       "      <td>6.42</td>\n",
       "    </tr>\n",
       "  </tbody>\n",
       "</table>\n",
       "</div>"
      ],
      "text/plain": [
       "   City_ID           City Country                 Date      Lat       Lng  \\\n",
       "0        0      Cape Town      ZA  2021-06-15 17:53:32 -33.9258   18.4232   \n",
       "1        1  Mar Del Plata      AR  2021-06-15 17:53:32 -38.0023  -57.5575   \n",
       "2        2      Berdychiv      UA  2021-06-15 17:53:32  49.8993   28.6024   \n",
       "3        3      Esperance      AU  2021-06-15 17:53:33 -33.8667  121.9000   \n",
       "4        4          Pevek      RU  2021-06-15 17:53:33  69.7008  170.3133   \n",
       "\n",
       "   Max Temp  Humidity  Cloudiness  Wind Speed  \n",
       "0     60.89        78          75        6.91  \n",
       "1     53.01        74          20       11.99  \n",
       "2     62.82        92          17        8.37  \n",
       "3     51.64        67          78       15.41  \n",
       "4     33.57        93          98        6.42  "
      ]
     },
     "execution_count": 2,
     "metadata": {},
     "output_type": "execute_result"
    }
   ],
   "source": [
    "city_data_df = pd.read_csv('weather_data/cities.csv')\n",
    "city_data_df.head()"
   ]
  },
  {
   "cell_type": "code",
   "execution_count": 3,
   "id": "2c97e991",
   "metadata": {},
   "outputs": [
    {
     "data": {
      "text/plain": [
       "City_ID         int64\n",
       "City           object\n",
       "Country        object\n",
       "Date           object\n",
       "Lat           float64\n",
       "Lng           float64\n",
       "Max Temp      float64\n",
       "Humidity        int64\n",
       "Cloudiness      int64\n",
       "Wind Speed    float64\n",
       "dtype: object"
      ]
     },
     "execution_count": 3,
     "metadata": {},
     "output_type": "execute_result"
    }
   ],
   "source": [
    "city_data_df.dtypes # Working with gmaps dependency requires the lats and lngs to be int or floats"
   ]
  },
  {
   "cell_type": "markdown",
   "id": "f728ecf4",
   "metadata": {},
   "source": [
    "# Create a max temperature heatmap"
   ]
  },
  {
   "cell_type": "code",
   "execution_count": 4,
   "id": "b2ceeee3",
   "metadata": {},
   "outputs": [],
   "source": [
    "# Configure gmaps to use API key\n",
    "gmaps.configure(api_key = g_key)"
   ]
  },
  {
   "cell_type": "markdown",
   "id": "5370f96b",
   "metadata": {},
   "source": [
    "### The general syntax for creating a heat map is as follows"
   ]
  },
  {
   "cell_type": "markdown",
   "id": "91619ddc",
   "metadata": {},
   "source": [
    "Do not run code"
   ]
  },
  {
   "cell_type": "code",
   "execution_count": 6,
   "id": "d503ae1d",
   "metadata": {},
   "outputs": [],
   "source": [
    "# # 1. Assign the locations to an array of latitude and longitude pairs.\n",
    "# locations = [latitude, longitude]\n",
    "# # 2. Assign the weights variable to some values.\n",
    "# temperatures = # an array of length equal to the locations array length\n",
    "# # 3. Assign the figure variable to the gmaps.figure() attribute.\n",
    "# fig = gmaps.figure()\n",
    "# # 4. Assign the heatmap_layer variable to the heatmap_layer attribute and add in the locations.\n",
    "# heatmap_layer = gmaps.heatmap_layer(locations, weights=temperatures)\n",
    "\n",
    "# # 5. Add the heatmap layer.\n",
    "# fig.add_layer(heatmap_layer)\n",
    "# # 6. Call the figure to plot the data.\n",
    "# fig"
   ]
  },
  {
   "cell_type": "markdown",
   "id": "7695e097",
   "metadata": {},
   "source": [
    "Code for doing it:"
   ]
  },
  {
   "cell_type": "code",
   "execution_count": 5,
   "id": "d283235e",
   "metadata": {},
   "outputs": [
    {
     "data": {
      "application/vnd.jupyter.widget-view+json": {
       "model_id": "1dddaabf7e994791a6e4aab6fd42a38e",
       "version_major": 2,
       "version_minor": 0
      },
      "text/plain": [
       "Figure(layout=FigureLayout(height='420px'))"
      ]
     },
     "metadata": {},
     "output_type": "display_data"
    }
   ],
   "source": [
    "locations = city_data_df[['Lat','Lng']]\n",
    "\n",
    "max_temp = city_data_df['Max Temp']\n",
    "\n",
    "fig = gmaps.figure()\n",
    "heat_layer = gmaps.heatmap_layer(locations, weights=max_temp)\n",
    "fig.add_layer(heat_layer)\n",
    "\n",
    "fig"
   ]
  },
  {
   "cell_type": "markdown",
   "id": "362863bc",
   "metadata": {},
   "source": [
    "If we were to have a prob running the previous line of code with a InvalidWeightException Error, it would be beacuse of negative temperatures for some cities. In order to solve this problem... we could create a new array temps and use it as the weights in the heat_layer creation instead"
   ]
  },
  {
   "cell_type": "code",
   "execution_count": 6,
   "id": "a1045aa3",
   "metadata": {},
   "outputs": [],
   "source": [
    "# Get the maximum temperature.\n",
    "max_temp = city_data_df[\"Max Temp\"]\n",
    "temps = []\n",
    "for temp in max_temp:\n",
    "    temps.append(max(temp, 0))\n",
    "#temps\n",
    "# And use temps instead of max_temp as weight of heat layer"
   ]
  },
  {
   "cell_type": "markdown",
   "id": "e09bffd6",
   "metadata": {},
   "source": [
    "Or code it directly in the gmaps.heatmap_layer() module using list comprehension as *weights=[max(temp,0) for temp in max_temp]*"
   ]
  },
  {
   "cell_type": "markdown",
   "id": "f5072163",
   "metadata": {},
   "source": [
    "# To adjust heatmap zoom, intensity, and point radius"
   ]
  },
  {
   "cell_type": "code",
   "execution_count": 7,
   "id": "1edead95",
   "metadata": {},
   "outputs": [
    {
     "data": {
      "application/vnd.jupyter.widget-view+json": {
       "model_id": "de59745cacb5438fbf6a6db1be687d25",
       "version_major": 2,
       "version_minor": 0
      },
      "text/plain": [
       "Figure(layout=FigureLayout(height='420px'))"
      ]
     },
     "metadata": {},
     "output_type": "display_data"
    }
   ],
   "source": [
    "# MAX TEMPERATURE HEAT MAP\n",
    "locations = city_data_df[['Lat','Lng']]\n",
    "\n",
    "max_temp = city_data_df['Max Temp']\n",
    "\n",
    "fig = gmaps.figure(center=(30.0,31.0), zoom_level=1.5) # CHANGES MADE: center and zoom level\n",
    "                                                       # center is the geographic center of earth in lat, long form\n",
    "                                                       # we also added zoom so that only one world map was shown\n",
    "heat_layer = gmaps.heatmap_layer(locations, weights=max_temp, dissipating=False,\n",
    "                                max_intensity=300, point_radius=3)\n",
    "                                # CHANGES: added dissipating, max intensity, and point radius\n",
    "                                # dissipation is default true, max int makes each measure have a better gradient\n",
    "                                # variance. pt raidus to make each measurerment radius larger\n",
    "fig.add_layer(heat_layer)\n",
    "\n",
    "fig"
   ]
  },
  {
   "cell_type": "markdown",
   "id": "65470480",
   "metadata": {},
   "source": [
    "# To create a % Humidity Map"
   ]
  },
  {
   "cell_type": "code",
   "execution_count": 9,
   "id": "e0737cd8",
   "metadata": {},
   "outputs": [
    {
     "data": {
      "application/vnd.jupyter.widget-view+json": {
       "model_id": "83ee9849c706484d878e94056f69eb8c",
       "version_major": 2,
       "version_minor": 0
      },
      "text/plain": [
       "Figure(layout=FigureLayout(height='420px'))"
      ]
     },
     "metadata": {},
     "output_type": "display_data"
    }
   ],
   "source": [
    "locations = city_data_df[['Lat','Lng']]\n",
    "humidity = city_data_df['Humidity']\n",
    "\n",
    "fig = gmaps.figure(center=(30.0,31.0), zoom_level=1.5)\n",
    "heat_layer = gmaps.heatmap_layer(locations, weights=humidity, dissipating=False,\n",
    "                                max_intensity=300, point_radius=3)\n",
    "fig.add_layer(heat_layer)\n",
    "fig"
   ]
  },
  {
   "cell_type": "markdown",
   "id": "dbff600c",
   "metadata": {},
   "source": [
    "# Create a % Cloudiness Heatmap\n"
   ]
  },
  {
   "cell_type": "code",
   "execution_count": 10,
   "id": "78a6ef05",
   "metadata": {},
   "outputs": [
    {
     "data": {
      "application/vnd.jupyter.widget-view+json": {
       "model_id": "a41b4020e60646c2b6ba968dce2bf69c",
       "version_major": 2,
       "version_minor": 0
      },
      "text/plain": [
       "Figure(layout=FigureLayout(height='420px'))"
      ]
     },
     "metadata": {},
     "output_type": "display_data"
    }
   ],
   "source": [
    "locations = city_data_df[['Lat','Lng']]\n",
    "clouds = city_data_df['Cloudiness']\n",
    "\n",
    "fig = gmaps.figure(center=(30.0,31.0), zoom_level=1.5)\n",
    "heat_layer = gmaps.heatmap_layer(locations, weights=clouds, dissipating=False,\n",
    "                                max_intensity=300, point_radius=3)\n",
    "fig.add_layer(heat_layer)\n",
    "fig"
   ]
  },
  {
   "cell_type": "markdown",
   "id": "c518e35c",
   "metadata": {},
   "source": [
    "# Create a Wind Speed Heatmap\n"
   ]
  },
  {
   "cell_type": "code",
   "execution_count": 11,
   "id": "84fab392",
   "metadata": {},
   "outputs": [
    {
     "data": {
      "application/vnd.jupyter.widget-view+json": {
       "model_id": "b821dbdcbc0e4889bcd2cdaf7671fd47",
       "version_major": 2,
       "version_minor": 0
      },
      "text/plain": [
       "Figure(layout=FigureLayout(height='420px'))"
      ]
     },
     "metadata": {},
     "output_type": "display_data"
    }
   ],
   "source": [
    "locations = city_data_df[['Lat','Lng']]\n",
    "wind = city_data_df['Wind Speed']\n",
    "\n",
    "fig = gmaps.figure(center=(30.0,31.0), zoom_level=1.5)\n",
    "heat_layer = gmaps.heatmap_layer(locations, weights=wind, dissipating=False,\n",
    "                                max_intensity=300, point_radius=3)\n",
    "fig.add_layer(heat_layer)\n",
    "fig"
   ]
  },
  {
   "cell_type": "markdown",
   "id": "4b92f96d",
   "metadata": {},
   "source": [
    "We are going to ask the customer to input the temperature ranges they want for their perfect vacation"
   ]
  },
  {
   "cell_type": "code",
   "execution_count": 12,
   "id": "70595af1",
   "metadata": {},
   "outputs": [
    {
     "name": "stdout",
     "output_type": "stream",
     "text": [
      "What is the minimum temperature you would like for your trip?75\n",
      "What is the maximum temperature you would like for your trip?90\n"
     ]
    }
   ],
   "source": [
    "min_temp = float(input('What is the minimum temperature you would like for your trip?'))\n",
    "max_temp = float(input('What is the maximum temperature you would like for your trip?'))\n"
   ]
  },
  {
   "cell_type": "code",
   "execution_count": 13,
   "id": "770ba693",
   "metadata": {},
   "outputs": [
    {
     "data": {
      "text/html": [
       "<div>\n",
       "<style scoped>\n",
       "    .dataframe tbody tr th:only-of-type {\n",
       "        vertical-align: middle;\n",
       "    }\n",
       "\n",
       "    .dataframe tbody tr th {\n",
       "        vertical-align: top;\n",
       "    }\n",
       "\n",
       "    .dataframe thead th {\n",
       "        text-align: right;\n",
       "    }\n",
       "</style>\n",
       "<table border=\"1\" class=\"dataframe\">\n",
       "  <thead>\n",
       "    <tr style=\"text-align: right;\">\n",
       "      <th></th>\n",
       "      <th>City_ID</th>\n",
       "      <th>City</th>\n",
       "      <th>Country</th>\n",
       "      <th>Date</th>\n",
       "      <th>Lat</th>\n",
       "      <th>Lng</th>\n",
       "      <th>Max Temp</th>\n",
       "      <th>Humidity</th>\n",
       "      <th>Cloudiness</th>\n",
       "      <th>Wind Speed</th>\n",
       "    </tr>\n",
       "  </thead>\n",
       "  <tbody>\n",
       "    <tr>\n",
       "      <th>7</th>\n",
       "      <td>7</td>\n",
       "      <td>Zhanakorgan</td>\n",
       "      <td>KZ</td>\n",
       "      <td>2021-06-15 17:53:34</td>\n",
       "      <td>43.9098</td>\n",
       "      <td>67.2495</td>\n",
       "      <td>79.11</td>\n",
       "      <td>23</td>\n",
       "      <td>0</td>\n",
       "      <td>9.95</td>\n",
       "    </tr>\n",
       "    <tr>\n",
       "      <th>8</th>\n",
       "      <td>8</td>\n",
       "      <td>Buala</td>\n",
       "      <td>SB</td>\n",
       "      <td>2021-06-15 17:53:34</td>\n",
       "      <td>-8.1450</td>\n",
       "      <td>159.5921</td>\n",
       "      <td>79.81</td>\n",
       "      <td>83</td>\n",
       "      <td>92</td>\n",
       "      <td>7.61</td>\n",
       "    </tr>\n",
       "    <tr>\n",
       "      <th>10</th>\n",
       "      <td>10</td>\n",
       "      <td>Kloulklubed</td>\n",
       "      <td>PW</td>\n",
       "      <td>2021-06-15 17:53:34</td>\n",
       "      <td>7.0419</td>\n",
       "      <td>134.2556</td>\n",
       "      <td>82.53</td>\n",
       "      <td>72</td>\n",
       "      <td>97</td>\n",
       "      <td>4.50</td>\n",
       "    </tr>\n",
       "    <tr>\n",
       "      <th>14</th>\n",
       "      <td>14</td>\n",
       "      <td>Atuona</td>\n",
       "      <td>PF</td>\n",
       "      <td>2021-06-15 17:53:35</td>\n",
       "      <td>-9.8000</td>\n",
       "      <td>-139.0333</td>\n",
       "      <td>78.22</td>\n",
       "      <td>80</td>\n",
       "      <td>33</td>\n",
       "      <td>19.77</td>\n",
       "    </tr>\n",
       "    <tr>\n",
       "      <th>25</th>\n",
       "      <td>25</td>\n",
       "      <td>Bodden Town</td>\n",
       "      <td>KY</td>\n",
       "      <td>2021-06-15 17:49:45</td>\n",
       "      <td>19.2833</td>\n",
       "      <td>-81.2500</td>\n",
       "      <td>89.60</td>\n",
       "      <td>1</td>\n",
       "      <td>20</td>\n",
       "      <td>18.41</td>\n",
       "    </tr>\n",
       "    <tr>\n",
       "      <th>26</th>\n",
       "      <td>26</td>\n",
       "      <td>Nouakchott</td>\n",
       "      <td>MR</td>\n",
       "      <td>2021-06-15 17:52:30</td>\n",
       "      <td>18.0858</td>\n",
       "      <td>-15.9785</td>\n",
       "      <td>78.73</td>\n",
       "      <td>82</td>\n",
       "      <td>30</td>\n",
       "      <td>12.17</td>\n",
       "    </tr>\n",
       "    <tr>\n",
       "      <th>30</th>\n",
       "      <td>30</td>\n",
       "      <td>Kapaa</td>\n",
       "      <td>US</td>\n",
       "      <td>2021-06-15 17:53:40</td>\n",
       "      <td>22.0752</td>\n",
       "      <td>-159.3190</td>\n",
       "      <td>77.18</td>\n",
       "      <td>75</td>\n",
       "      <td>76</td>\n",
       "      <td>1.01</td>\n",
       "    </tr>\n",
       "    <tr>\n",
       "      <th>36</th>\n",
       "      <td>36</td>\n",
       "      <td>Butaritari</td>\n",
       "      <td>KI</td>\n",
       "      <td>2021-06-15 17:53:42</td>\n",
       "      <td>3.0707</td>\n",
       "      <td>172.7902</td>\n",
       "      <td>82.96</td>\n",
       "      <td>77</td>\n",
       "      <td>100</td>\n",
       "      <td>16.71</td>\n",
       "    </tr>\n",
       "    <tr>\n",
       "      <th>37</th>\n",
       "      <td>37</td>\n",
       "      <td>Puerto Leguizamo</td>\n",
       "      <td>CO</td>\n",
       "      <td>2021-06-15 17:53:42</td>\n",
       "      <td>-0.1934</td>\n",
       "      <td>-74.7819</td>\n",
       "      <td>77.74</td>\n",
       "      <td>82</td>\n",
       "      <td>98</td>\n",
       "      <td>1.90</td>\n",
       "    </tr>\n",
       "    <tr>\n",
       "      <th>38</th>\n",
       "      <td>38</td>\n",
       "      <td>Sulangan</td>\n",
       "      <td>PH</td>\n",
       "      <td>2021-06-15 17:53:42</td>\n",
       "      <td>11.1373</td>\n",
       "      <td>123.7228</td>\n",
       "      <td>84.22</td>\n",
       "      <td>73</td>\n",
       "      <td>94</td>\n",
       "      <td>1.30</td>\n",
       "    </tr>\n",
       "  </tbody>\n",
       "</table>\n",
       "</div>"
      ],
      "text/plain": [
       "    City_ID              City Country                 Date      Lat       Lng  \\\n",
       "7         7       Zhanakorgan      KZ  2021-06-15 17:53:34  43.9098   67.2495   \n",
       "8         8             Buala      SB  2021-06-15 17:53:34  -8.1450  159.5921   \n",
       "10       10       Kloulklubed      PW  2021-06-15 17:53:34   7.0419  134.2556   \n",
       "14       14            Atuona      PF  2021-06-15 17:53:35  -9.8000 -139.0333   \n",
       "25       25       Bodden Town      KY  2021-06-15 17:49:45  19.2833  -81.2500   \n",
       "26       26        Nouakchott      MR  2021-06-15 17:52:30  18.0858  -15.9785   \n",
       "30       30             Kapaa      US  2021-06-15 17:53:40  22.0752 -159.3190   \n",
       "36       36        Butaritari      KI  2021-06-15 17:53:42   3.0707  172.7902   \n",
       "37       37  Puerto Leguizamo      CO  2021-06-15 17:53:42  -0.1934  -74.7819   \n",
       "38       38          Sulangan      PH  2021-06-15 17:53:42  11.1373  123.7228   \n",
       "\n",
       "    Max Temp  Humidity  Cloudiness  Wind Speed  \n",
       "7      79.11        23           0        9.95  \n",
       "8      79.81        83          92        7.61  \n",
       "10     82.53        72          97        4.50  \n",
       "14     78.22        80          33       19.77  \n",
       "25     89.60         1          20       18.41  \n",
       "26     78.73        82          30       12.17  \n",
       "30     77.18        75          76        1.01  \n",
       "36     82.96        77         100       16.71  \n",
       "37     77.74        82          98        1.90  \n",
       "38     84.22        73          94        1.30  "
      ]
     },
     "execution_count": 13,
     "metadata": {},
     "output_type": "execute_result"
    }
   ],
   "source": [
    "# Creating new dataframe with only cities applicable to the customer's need\n",
    "preferred_cities_df = city_data_df.loc[(city_data_df['Max Temp'] <= max_temp) & \\\n",
    "                                        (city_data_df['Max Temp'] >= min_temp)]\n",
    "preferred_cities_df.head(10)\n"
   ]
  },
  {
   "cell_type": "code",
   "execution_count": 14,
   "id": "331ebf8a",
   "metadata": {},
   "outputs": [
    {
     "data": {
      "text/plain": [
       "City_ID       0\n",
       "City          0\n",
       "Country       0\n",
       "Date          0\n",
       "Lat           0\n",
       "Lng           0\n",
       "Max Temp      0\n",
       "Humidity      0\n",
       "Cloudiness    0\n",
       "Wind Speed    0\n",
       "dtype: int64"
      ]
     },
     "execution_count": 14,
     "metadata": {},
     "output_type": "execute_result"
    }
   ],
   "source": [
    "# To check if there are any null values in the new df\n",
    "preferred_cities_df.isnull().sum()"
   ]
  },
  {
   "cell_type": "markdown",
   "id": "d3f5926c",
   "metadata": {},
   "source": [
    "Now that we have the cities that our customers are interested in, we need to go further and see where they can stay. Which hotel? We are going to select one hotel form each city using google maps.\n",
    "\n",
    "Once the customers have filtered the database (DataFrame) based on their temperature preferences, show them a heatmap for the maximum temperature for the filtered cities. In addition, create a marker for each city that will display the name of the city, country code, maximum temperature, and name of a nearby hotel within three miles of the coordinates when the marker is clicked."
   ]
  },
  {
   "cell_type": "code",
   "execution_count": 15,
   "id": "7086e008",
   "metadata": {},
   "outputs": [
    {
     "data": {
      "text/html": [
       "<div>\n",
       "<style scoped>\n",
       "    .dataframe tbody tr th:only-of-type {\n",
       "        vertical-align: middle;\n",
       "    }\n",
       "\n",
       "    .dataframe tbody tr th {\n",
       "        vertical-align: top;\n",
       "    }\n",
       "\n",
       "    .dataframe thead th {\n",
       "        text-align: right;\n",
       "    }\n",
       "</style>\n",
       "<table border=\"1\" class=\"dataframe\">\n",
       "  <thead>\n",
       "    <tr style=\"text-align: right;\">\n",
       "      <th></th>\n",
       "      <th>City</th>\n",
       "      <th>Country</th>\n",
       "      <th>Max Temp</th>\n",
       "      <th>Lat</th>\n",
       "      <th>Lng</th>\n",
       "      <th>Hotel Name</th>\n",
       "    </tr>\n",
       "  </thead>\n",
       "  <tbody>\n",
       "    <tr>\n",
       "      <th>7</th>\n",
       "      <td>Zhanakorgan</td>\n",
       "      <td>KZ</td>\n",
       "      <td>79.11</td>\n",
       "      <td>43.9098</td>\n",
       "      <td>67.2495</td>\n",
       "      <td></td>\n",
       "    </tr>\n",
       "    <tr>\n",
       "      <th>8</th>\n",
       "      <td>Buala</td>\n",
       "      <td>SB</td>\n",
       "      <td>79.81</td>\n",
       "      <td>-8.1450</td>\n",
       "      <td>159.5921</td>\n",
       "      <td></td>\n",
       "    </tr>\n",
       "    <tr>\n",
       "      <th>10</th>\n",
       "      <td>Kloulklubed</td>\n",
       "      <td>PW</td>\n",
       "      <td>82.53</td>\n",
       "      <td>7.0419</td>\n",
       "      <td>134.2556</td>\n",
       "      <td></td>\n",
       "    </tr>\n",
       "    <tr>\n",
       "      <th>14</th>\n",
       "      <td>Atuona</td>\n",
       "      <td>PF</td>\n",
       "      <td>78.22</td>\n",
       "      <td>-9.8000</td>\n",
       "      <td>-139.0333</td>\n",
       "      <td></td>\n",
       "    </tr>\n",
       "    <tr>\n",
       "      <th>25</th>\n",
       "      <td>Bodden Town</td>\n",
       "      <td>KY</td>\n",
       "      <td>89.60</td>\n",
       "      <td>19.2833</td>\n",
       "      <td>-81.2500</td>\n",
       "      <td></td>\n",
       "    </tr>\n",
       "    <tr>\n",
       "      <th>26</th>\n",
       "      <td>Nouakchott</td>\n",
       "      <td>MR</td>\n",
       "      <td>78.73</td>\n",
       "      <td>18.0858</td>\n",
       "      <td>-15.9785</td>\n",
       "      <td></td>\n",
       "    </tr>\n",
       "    <tr>\n",
       "      <th>30</th>\n",
       "      <td>Kapaa</td>\n",
       "      <td>US</td>\n",
       "      <td>77.18</td>\n",
       "      <td>22.0752</td>\n",
       "      <td>-159.3190</td>\n",
       "      <td></td>\n",
       "    </tr>\n",
       "    <tr>\n",
       "      <th>36</th>\n",
       "      <td>Butaritari</td>\n",
       "      <td>KI</td>\n",
       "      <td>82.96</td>\n",
       "      <td>3.0707</td>\n",
       "      <td>172.7902</td>\n",
       "      <td></td>\n",
       "    </tr>\n",
       "    <tr>\n",
       "      <th>37</th>\n",
       "      <td>Puerto Leguizamo</td>\n",
       "      <td>CO</td>\n",
       "      <td>77.74</td>\n",
       "      <td>-0.1934</td>\n",
       "      <td>-74.7819</td>\n",
       "      <td></td>\n",
       "    </tr>\n",
       "    <tr>\n",
       "      <th>38</th>\n",
       "      <td>Sulangan</td>\n",
       "      <td>PH</td>\n",
       "      <td>84.22</td>\n",
       "      <td>11.1373</td>\n",
       "      <td>123.7228</td>\n",
       "      <td></td>\n",
       "    </tr>\n",
       "  </tbody>\n",
       "</table>\n",
       "</div>"
      ],
      "text/plain": [
       "                City Country  Max Temp      Lat       Lng Hotel Name\n",
       "7        Zhanakorgan      KZ     79.11  43.9098   67.2495           \n",
       "8              Buala      SB     79.81  -8.1450  159.5921           \n",
       "10       Kloulklubed      PW     82.53   7.0419  134.2556           \n",
       "14            Atuona      PF     78.22  -9.8000 -139.0333           \n",
       "25       Bodden Town      KY     89.60  19.2833  -81.2500           \n",
       "26        Nouakchott      MR     78.73  18.0858  -15.9785           \n",
       "30             Kapaa      US     77.18  22.0752 -159.3190           \n",
       "36        Butaritari      KI     82.96   3.0707  172.7902           \n",
       "37  Puerto Leguizamo      CO     77.74  -0.1934  -74.7819           \n",
       "38          Sulangan      PH     84.22  11.1373  123.7228           "
      ]
     },
     "execution_count": 15,
     "metadata": {},
     "output_type": "execute_result"
    }
   ],
   "source": [
    "# Creat a new df called hotel_df to store hotel names along with these columns\n",
    "hotel_df = preferred_cities_df[['City','Country','Max Temp','Lat','Lng']].copy()\n",
    "hotel_df['Hotel Name'] = ''\n",
    "hotel_df.head(10)"
   ]
  },
  {
   "cell_type": "markdown",
   "id": "7d28088a",
   "metadata": {},
   "source": [
    "Using the latitude and longitude and specific parameters, use the Google Places Nearby Search request to retrieve a hotel and add it to the Hotel Name column."
   ]
  },
  {
   "cell_type": "markdown",
   "id": "8e218da9",
   "metadata": {},
   "source": [
    "# Create API request to look for closest hotel"
   ]
  },
  {
   "cell_type": "code",
   "execution_count": 16,
   "id": "b9354735",
   "metadata": {},
   "outputs": [],
   "source": [
    "# Set parameters to search for a hotel\n",
    "params = {\n",
    "    'radius':5000,\n",
    "    'type':'lodging',\n",
    "    'key':g_key\n",
    "}"
   ]
  },
  {
   "cell_type": "code",
   "execution_count": 18,
   "id": "85e3f28d",
   "metadata": {},
   "outputs": [
    {
     "ename": "IndexError",
     "evalue": "list index out of range",
     "output_type": "error",
     "traceback": [
      "\u001b[0;31m---------------------------------------------------------------------------\u001b[0m",
      "\u001b[0;31mIndexError\u001b[0m                                Traceback (most recent call last)",
      "\u001b[0;32m<ipython-input-18-fb4b837962f0>\u001b[0m in \u001b[0;36m<module>\u001b[0;34m\u001b[0m\n\u001b[1;32m     13\u001b[0m     \u001b[0mhotels\u001b[0m \u001b[0;34m=\u001b[0m \u001b[0mrequests\u001b[0m\u001b[0;34m.\u001b[0m\u001b[0mget\u001b[0m\u001b[0;34m(\u001b[0m\u001b[0mbase_url\u001b[0m\u001b[0;34m,\u001b[0m \u001b[0mparams\u001b[0m\u001b[0;34m=\u001b[0m\u001b[0mparams\u001b[0m\u001b[0;34m)\u001b[0m\u001b[0;34m.\u001b[0m\u001b[0mjson\u001b[0m\u001b[0;34m(\u001b[0m\u001b[0;34m)\u001b[0m\u001b[0;34m\u001b[0m\u001b[0;34m\u001b[0m\u001b[0m\n\u001b[1;32m     14\u001b[0m     \u001b[0;31m# Grab the first hotel from the results and store the name.\u001b[0m\u001b[0;34m\u001b[0m\u001b[0;34m\u001b[0m\u001b[0;34m\u001b[0m\u001b[0m\n\u001b[0;32m---> 15\u001b[0;31m     \u001b[0mhotel_df\u001b[0m\u001b[0;34m.\u001b[0m\u001b[0mloc\u001b[0m\u001b[0;34m[\u001b[0m\u001b[0mindex\u001b[0m\u001b[0;34m,\u001b[0m \u001b[0;34m\"Hotel Name\"\u001b[0m\u001b[0;34m]\u001b[0m \u001b[0;34m=\u001b[0m \u001b[0mhotels\u001b[0m\u001b[0;34m[\u001b[0m\u001b[0;34m\"results\"\u001b[0m\u001b[0;34m]\u001b[0m\u001b[0;34m[\u001b[0m\u001b[0;36m0\u001b[0m\u001b[0;34m]\u001b[0m\u001b[0;34m[\u001b[0m\u001b[0;34m\"name\"\u001b[0m\u001b[0;34m]\u001b[0m\u001b[0;34m\u001b[0m\u001b[0;34m\u001b[0m\u001b[0m\n\u001b[0m",
      "\u001b[0;31mIndexError\u001b[0m: list index out of range"
     ]
    }
   ],
   "source": [
    "# Iterate through the DataFrame.\n",
    "for index, row in hotel_df.iterrows():\n",
    "    # Get the latitude and longitude.\n",
    "    lat = row[\"Lat\"]\n",
    "    lng = row[\"Lng\"]\n",
    "\n",
    "    # Add the latitude and longitude to location key for the params dictionary.\n",
    "    params[\"location\"] = f\"{lat},{lng}\"\n",
    "\n",
    "    # Use the search term: \"lodging\" and our latitude and longitude.\n",
    "    base_url = \"https://maps.googleapis.com/maps/api/place/nearbysearch/json\"\n",
    "    # Make request and get the JSON data from the search.\n",
    "    hotels = requests.get(base_url, params=params).json()\n",
    "    # Grab the first hotel from the results and store the name.\n",
    "    hotel_df.loc[index, \"Hotel Name\"] = hotels[\"results\"][0][\"name\"]"
   ]
  },
  {
   "cell_type": "markdown",
   "id": "4b35b8dc",
   "metadata": {},
   "source": [
    "We need to try again with a try except so that our code is not stopped prematurely. "
   ]
  },
  {
   "cell_type": "code",
   "execution_count": 17,
   "id": "0fd54d1c",
   "metadata": {},
   "outputs": [
    {
     "name": "stdout",
     "output_type": "stream",
     "text": [
      "Hotel not found... skipping.\n",
      "Hotel not found... skipping.\n",
      "Hotel not found... skipping.\n",
      "Hotel not found... skipping.\n",
      "Hotel not found... skipping.\n",
      "Hotel not found... skipping.\n",
      "Hotel not found... skipping.\n",
      "Hotel not found... skipping.\n"
     ]
    }
   ],
   "source": [
    "# Iterate through the DataFrame.\n",
    "for index, row in hotel_df.iterrows():\n",
    "    # Get the latitude and longitude.\n",
    "    lat = row[\"Lat\"]\n",
    "    lng = row[\"Lng\"]\n",
    "\n",
    "    # Add the latitude and longitude to location key for the params dictionary.\n",
    "    params[\"location\"] = f\"{lat},{lng}\"\n",
    "\n",
    "    # Use the search term: \"lodging\" and our latitude and longitude.\n",
    "    base_url = \"https://maps.googleapis.com/maps/api/place/nearbysearch/json\"\n",
    "    # Make request and get the JSON data from the search.\n",
    "    hotels = requests.get(base_url, params=params).json()\n",
    "    # Grab the first hotel from the results and store the name.\n",
    "    try:\n",
    "        hotel_df.loc[index, \"Hotel Name\"] = hotels[\"results\"][0][\"name\"]\n",
    "    except (IndexError):\n",
    "        print(\"Hotel not found... skipping.\")"
   ]
  },
  {
   "cell_type": "code",
   "execution_count": 18,
   "id": "36ada2ca",
   "metadata": {},
   "outputs": [
    {
     "data": {
      "text/html": [
       "<div>\n",
       "<style scoped>\n",
       "    .dataframe tbody tr th:only-of-type {\n",
       "        vertical-align: middle;\n",
       "    }\n",
       "\n",
       "    .dataframe tbody tr th {\n",
       "        vertical-align: top;\n",
       "    }\n",
       "\n",
       "    .dataframe thead th {\n",
       "        text-align: right;\n",
       "    }\n",
       "</style>\n",
       "<table border=\"1\" class=\"dataframe\">\n",
       "  <thead>\n",
       "    <tr style=\"text-align: right;\">\n",
       "      <th></th>\n",
       "      <th>City</th>\n",
       "      <th>Country</th>\n",
       "      <th>Max Temp</th>\n",
       "      <th>Lat</th>\n",
       "      <th>Lng</th>\n",
       "      <th>Hotel Name</th>\n",
       "    </tr>\n",
       "  </thead>\n",
       "  <tbody>\n",
       "    <tr>\n",
       "      <th>552</th>\n",
       "      <td>Cagliari</td>\n",
       "      <td>IT</td>\n",
       "      <td>80.94</td>\n",
       "      <td>39.2450</td>\n",
       "      <td>9.0912</td>\n",
       "      <td>Holiday Inn Cagliari</td>\n",
       "    </tr>\n",
       "    <tr>\n",
       "      <th>555</th>\n",
       "      <td>Valverde Del Camino</td>\n",
       "      <td>ES</td>\n",
       "      <td>80.08</td>\n",
       "      <td>37.5751</td>\n",
       "      <td>-6.7543</td>\n",
       "      <td>HOTEL MONTEAROMA (ulamde hotelera S.L.)</td>\n",
       "    </tr>\n",
       "    <tr>\n",
       "      <th>556</th>\n",
       "      <td>Le Creusot</td>\n",
       "      <td>FR</td>\n",
       "      <td>84.42</td>\n",
       "      <td>46.8071</td>\n",
       "      <td>4.4163</td>\n",
       "      <td>Hotel La Petite Verrerie</td>\n",
       "    </tr>\n",
       "    <tr>\n",
       "      <th>558</th>\n",
       "      <td>Bartica</td>\n",
       "      <td>GY</td>\n",
       "      <td>77.32</td>\n",
       "      <td>6.4000</td>\n",
       "      <td>-58.6167</td>\n",
       "      <td>Relax Inn Hotel</td>\n",
       "    </tr>\n",
       "    <tr>\n",
       "      <th>559</th>\n",
       "      <td>Marzuq</td>\n",
       "      <td>YE</td>\n",
       "      <td>85.19</td>\n",
       "      <td>14.4000</td>\n",
       "      <td>46.4667</td>\n",
       "      <td></td>\n",
       "    </tr>\n",
       "    <tr>\n",
       "      <th>562</th>\n",
       "      <td>Filadelfia</td>\n",
       "      <td>US</td>\n",
       "      <td>82.02</td>\n",
       "      <td>39.9523</td>\n",
       "      <td>-75.1638</td>\n",
       "      <td>The Ritz-Carlton, Philadelphia</td>\n",
       "    </tr>\n",
       "    <tr>\n",
       "      <th>565</th>\n",
       "      <td>Kampot</td>\n",
       "      <td>KH</td>\n",
       "      <td>80.15</td>\n",
       "      <td>10.6167</td>\n",
       "      <td>104.1833</td>\n",
       "      <td>Two Moons Hotel</td>\n",
       "    </tr>\n",
       "    <tr>\n",
       "      <th>567</th>\n",
       "      <td>Changde</td>\n",
       "      <td>CN</td>\n",
       "      <td>81.34</td>\n",
       "      <td>29.0464</td>\n",
       "      <td>111.6783</td>\n",
       "      <td>Kangshida Hotel</td>\n",
       "    </tr>\n",
       "    <tr>\n",
       "      <th>568</th>\n",
       "      <td>Tautira</td>\n",
       "      <td>PF</td>\n",
       "      <td>78.82</td>\n",
       "      <td>-17.7333</td>\n",
       "      <td>-149.1500</td>\n",
       "      <td>Pension Oaoa</td>\n",
       "    </tr>\n",
       "    <tr>\n",
       "      <th>573</th>\n",
       "      <td>Yaounde</td>\n",
       "      <td>CM</td>\n",
       "      <td>80.13</td>\n",
       "      <td>3.8667</td>\n",
       "      <td>11.5167</td>\n",
       "      <td>Hotel Mérina</td>\n",
       "    </tr>\n",
       "  </tbody>\n",
       "</table>\n",
       "</div>"
      ],
      "text/plain": [
       "                    City Country  Max Temp      Lat       Lng  \\\n",
       "552             Cagliari      IT     80.94  39.2450    9.0912   \n",
       "555  Valverde Del Camino      ES     80.08  37.5751   -6.7543   \n",
       "556           Le Creusot      FR     84.42  46.8071    4.4163   \n",
       "558              Bartica      GY     77.32   6.4000  -58.6167   \n",
       "559               Marzuq      YE     85.19  14.4000   46.4667   \n",
       "562           Filadelfia      US     82.02  39.9523  -75.1638   \n",
       "565               Kampot      KH     80.15  10.6167  104.1833   \n",
       "567              Changde      CN     81.34  29.0464  111.6783   \n",
       "568              Tautira      PF     78.82 -17.7333 -149.1500   \n",
       "573              Yaounde      CM     80.13   3.8667   11.5167   \n",
       "\n",
       "                                  Hotel Name  \n",
       "552                     Holiday Inn Cagliari  \n",
       "555  HOTEL MONTEAROMA (ulamde hotelera S.L.)  \n",
       "556                 Hotel La Petite Verrerie  \n",
       "558                          Relax Inn Hotel  \n",
       "559                                           \n",
       "562           The Ritz-Carlton, Philadelphia  \n",
       "565                          Two Moons Hotel  \n",
       "567                          Kangshida Hotel  \n",
       "568                             Pension Oaoa  \n",
       "573                             Hotel Mérina  "
      ]
     },
     "execution_count": 18,
     "metadata": {},
     "output_type": "execute_result"
    }
   ],
   "source": [
    "hotel_df.tail(10) # As we can see, there were cases where it didn't find any hotel"
   ]
  },
  {
   "cell_type": "markdown",
   "id": "ec90e98a",
   "metadata": {},
   "source": [
    "# Last Task: Add pop-up markers with hotel info to a heatmap"
   ]
  },
  {
   "cell_type": "code",
   "execution_count": 19,
   "id": "8c700d89",
   "metadata": {},
   "outputs": [],
   "source": [
    "info_box_template = \"\"\"\n",
    "<dl>\n",
    "<dt>Hotel Name</dt><dd>{Hotel Name}</dd>\n",
    "<dt>City</dt><dd>{City}</dd>\n",
    "<dt>Country</dt><dd>{Country}</dd>\n",
    "<dt>Max Temp</dt><dd>{Max Temp} °F</dd>\n",
    "</dl>\n",
    "\"\"\"\n",
    "\n",
    "# Store the DataFrame Row.\n",
    "hotel_info = [info_box_template.format(**row) for index, row in hotel_df.iterrows()]"
   ]
  },
  {
   "cell_type": "code",
   "execution_count": 20,
   "id": "a5fb1ae2",
   "metadata": {},
   "outputs": [
    {
     "data": {
      "application/vnd.jupyter.widget-view+json": {
       "model_id": "1e11373fc3634edaba41def64394853e",
       "version_major": 2,
       "version_minor": 0
      },
      "text/plain": [
       "Figure(layout=FigureLayout(height='420px'))"
      ]
     },
     "metadata": {},
     "output_type": "display_data"
    }
   ],
   "source": [
    "locations = hotel_df[[\"Lat\", \"Lng\"]]\n",
    "max_temp = hotel_df[\"Max Temp\"]\n",
    "fig = gmaps.figure(center=(30.0, 31.0), zoom_level=1.5)\n",
    "heat_layer = gmaps.heatmap_layer(locations, weights=max_temp, dissipating=False,\n",
    "             max_intensity=300, point_radius=3)\n",
    "marker_layer = gmaps.marker_layer(locations, info_box_content=hotel_info)\n",
    "fig.add_layer(heat_layer)\n",
    "fig.add_layer(marker_layer)\n",
    "fig"
   ]
  }
 ],
 "metadata": {
  "kernelspec": {
   "display_name": "Python 3",
   "language": "python",
   "name": "python3"
  },
  "language_info": {
   "codemirror_mode": {
    "name": "ipython",
    "version": 3
   },
   "file_extension": ".py",
   "mimetype": "text/x-python",
   "name": "python",
   "nbconvert_exporter": "python",
   "pygments_lexer": "ipython3",
   "version": "3.7.10"
  },
  "varInspector": {
   "cols": {
    "lenName": 16,
    "lenType": 16,
    "lenVar": 40
   },
   "kernels_config": {
    "python": {
     "delete_cmd_postfix": "",
     "delete_cmd_prefix": "del ",
     "library": "var_list.py",
     "varRefreshCmd": "print(var_dic_list())"
    },
    "r": {
     "delete_cmd_postfix": ") ",
     "delete_cmd_prefix": "rm(",
     "library": "var_list.r",
     "varRefreshCmd": "cat(var_dic_list()) "
    }
   },
   "types_to_exclude": [
    "module",
    "function",
    "builtin_function_or_method",
    "instance",
    "_Feature"
   ],
   "window_display": false
  }
 },
 "nbformat": 4,
 "nbformat_minor": 5
}
